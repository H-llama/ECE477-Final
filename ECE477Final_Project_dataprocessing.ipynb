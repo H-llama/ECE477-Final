{
  "nbformat": 4,
  "nbformat_minor": 0,
  "metadata": {
    "colab": {
      "provenance": []
    },
    "kernelspec": {
      "name": "python3",
      "display_name": "Python 3"
    },
    "language_info": {
      "name": "python"
    }
  },
  "cells": [
    {
      "cell_type": "code",
      "execution_count": null,
      "metadata": {
        "id": "tgL5igmYyPSg"
      },
      "outputs": [],
      "source": [
        "import numpy as np\n",
        "import matplotlib.pyplot as plt\n",
        "import pandas as pd\n",
        "from sklearn.preprocessing import StandardScaler\n",
        "from sklearn.model_selection import train_test_split\n",
        "from sklearn.neural_network import MLPClassifier\n",
        "from sklearn.ensemble import RandomForestClassifier\n",
        "random_state = 5"
      ]
    },
    {
      "cell_type": "code",
      "source": [
        "from google.colab import drive\n",
        "drive.mount('/content/drive', force_remount=True)"
      ],
      "metadata": {
        "colab": {
          "base_uri": "https://localhost:8080/"
        },
        "id": "j9RAaIp7TLlj",
        "outputId": "ac9d23df-fd7b-426d-d72a-5b5fc6fe7634"
      },
      "execution_count": null,
      "outputs": [
        {
          "output_type": "stream",
          "name": "stdout",
          "text": [
            "Mounted at /content/drive\n"
          ]
        }
      ]
    },
    {
      "cell_type": "markdown",
      "source": [
        "Import the telem excel files into colab"
      ],
      "metadata": {
        "id": "w5CKD5Pq1TTt"
      }
    },
    {
      "cell_type": "code",
      "source": [
        "#Telem2014_2015 = pd.read_excel('/content/drive/MyDrive/ECE477/ECE477 Final Project/ECE477 Final Project Data/Telem2014-2015.xlsx')\n",
        "Telem2017_2018 = pd.ExcelFile('/content/drive/MyDrive/ECE477/ECE477 Final Project/ECE477 Final Project Data/Telem2017-2018.xlsx')\n",
        "\n",
        "varsityNames2017_2018= ['Jonas','Slear','Teece','Cabanas','Sincavage','Hogan','Kwitchoff']\n",
        "varsityNames2018_2019= ['Jonas','Dickinson','Slear','Teece','Cabanas','Hogan','Kwitchoff','Pompili']\n",
        "varsityNames2019_2020= ['Jonas','Kwitchoff','Teece','Long','Eilers','Dickinson','Berg','Pompili']\n",
        "###Fix naming varsity, rn LONG is in varsity for all 3 years, where he was only in it for the last year!!!!!!\n",
        "\n",
        "\n",
        "\n",
        "Telem2017_2018list = list()\n",
        "\n",
        "for sheet in Telem2017_2018.sheet_names:\n",
        "  Telem2017_2018list.append(pd.read_excel(Telem2017_2018, sheet))\n",
        "\n",
        "\n",
        "\n",
        "Telem2018_2019 = pd.ExcelFile('/content/drive/MyDrive/ECE477/ECE477 Final Project/ECE477 Final Project Data/Telem2018-2019.xlsx')\n",
        "Telem2018_2019list = list()\n",
        "\n",
        "for sheet in Telem2018_2019.sheet_names:\n",
        "  Telem2018_2019list.append(pd.read_excel(Telem2018_2019, sheet))\n",
        "\n",
        "\n",
        "\n",
        "Telem2019_2020 = pd.ExcelFile('/content/drive/MyDrive/ECE477/ECE477 Final Project/ECE477 Final Project Data/Telem2019-2020.xlsx')\n",
        "Telem2019_2020list = list()\n",
        "\n",
        "\n",
        "for sheet in Telem2019_2020.sheet_names:\n",
        "  Telem2019_2020list.append(pd.read_excel(Telem2019_2020, sheet))\n"
      ],
      "metadata": {
        "id": "gsn4ABXe1ZLQ"
      },
      "execution_count": null,
      "outputs": []
    },
    {
      "cell_type": "markdown",
      "source": [
        "Create the final combined table and parsed dataset With columns = Name,Catch_angle,Finish_angle,Length,Catch_slip,Finish_slip,Watts,Rating,Piece_length,Piece_duration"
      ],
      "metadata": {
        "id": "XKBX1L7FOTYk"
      }
    },
    {
      "cell_type": "code",
      "source": [
        "table = pd.DataFrame(columns = ['Name','Catch_angle','Finish_angle','Length','Catch_slip','Finish_slip','Watts','Rating','Piece_length','Varsity?'])"
      ],
      "metadata": {
        "id": "B-CCpGlJOQIP"
      },
      "execution_count": null,
      "outputs": []
    },
    {
      "cell_type": "markdown",
      "source": [
        "Add data from 2017-2018"
      ],
      "metadata": {
        "id": "Q0IRZW9R0m71"
      }
    },
    {
      "cell_type": "code",
      "source": [
        "#for 2017-2018 session 1\n",
        "data = Telem2017_2018list[0]\n",
        "name_col = data.iloc[2:10,0]\n",
        "catch_col1 = data.iloc[2:10,1:6]\n",
        "finish_col1 = data.iloc[2:10,7:12]\n",
        "length_col1 = data.iloc[2:10,13:18]\n",
        "CatchS_col1 = data.iloc[2:10,19:24]\n",
        "FinishS_col1 = data.iloc[2:10,25:30]\n",
        "Watts_col1 = data.iloc[2:10,31:36]\n",
        "\n",
        "name_col2 = data.iloc[12:20,0]\n",
        "catch_col2 = data.iloc[12:20,1:6]\n",
        "finish_col2 = data.iloc[12:20,7:12]\n",
        "length_col2 = data.iloc[12:20,13:18]\n",
        "CatchS_col2 = data.iloc[12:20,19:24]\n",
        "FinishS_col2 = data.iloc[12:20,25:30]\n",
        "Watts_col2 = data.iloc[12:20,31:36]\n",
        "reshaped_data = []\n",
        "distances = [2000,1000,1000,1000,1000]\n",
        "rates= [28,30,30,30,30]\n",
        "for i,name in enumerate(name_col):\n",
        "  for j in range(4):\n",
        "    reshaped_data.append([name,catch_col1.iloc[i,j],finish_col1.iloc[i,j],length_col1.iloc[i,j],CatchS_col1.iloc[i,j],FinishS_col1.iloc[i,j],Watts_col1.iloc[i,j],rates[j],distances[j],0])\n",
        "for i,name in enumerate(name_col2):\n",
        "  for j in range(4):\n",
        "    reshaped_data.append([name,catch_col2.iloc[i,j],finish_col2.iloc[i,j],length_col2.iloc[i,j],CatchS_col2.iloc[i,j],FinishS_col2.iloc[i,j],Watts_col2.iloc[i,j],rates[j],distances[j],0])\n",
        "new = pd.DataFrame(reshaped_data,columns = ['Name','Catch_angle','Finish_angle','Length','Catch_slip','Finish_slip','Watts','Rating','Piece_length','Varsity?'])\n",
        "for name in new['Name']:\n",
        "  if name in varsityNames2017_2018:\n",
        "    new.loc[new['Name'] == name, 'Varsity?'] = 1\n",
        "\n",
        "\n",
        "table = pd.concat([table,new])\n",
        "print(table.shape)"
      ],
      "metadata": {
        "id": "zfDec3170rJY",
        "colab": {
          "base_uri": "https://localhost:8080/"
        },
        "outputId": "3bc5af12-026d-4d7f-a761-74f1c0103bf5"
      },
      "execution_count": null,
      "outputs": [
        {
          "output_type": "stream",
          "name": "stdout",
          "text": [
            "(64, 10)\n"
          ]
        },
        {
          "output_type": "stream",
          "name": "stderr",
          "text": [
            "<ipython-input-5-54827b21fd54>:33: FutureWarning: The behavior of DataFrame concatenation with empty or all-NA entries is deprecated. In a future version, this will no longer exclude empty or all-NA columns when determining the result dtypes. To retain the old behavior, exclude the relevant entries before the concat operation.\n",
            "  table = pd.concat([table,new])\n"
          ]
        }
      ]
    },
    {
      "cell_type": "code",
      "source": [
        "# 2017-2018 session 2\n",
        "data = Telem2017_2018list[2]\n",
        "name_col = data.iloc[2:13,0]\n",
        "catch_col = data.iloc[2:13,1:4]\n",
        "finish_col = data.iloc[2:13,5:8]\n",
        "length_col = data.iloc[2:13,9:12]\n",
        "CatchS_col = data.iloc[2:13,13:16]\n",
        "FinishS_col = data.iloc[2:13,17:20]\n",
        "Watts_col = data.iloc[2:13,25:28]\n",
        "reshaped_data = []\n",
        "distances=[3000,1250,1300]\n",
        "rates=[19,29,28]\n",
        "for i,name in enumerate(name_col):\n",
        "  for j in range(3):\n",
        "    reshaped_data.append([name,catch_col.iloc[i,j],finish_col.iloc[i,j],length_col.iloc[i,j],CatchS_col.iloc[i,j],FinishS_col.iloc[i,j],Watts_col.iloc[i,j],rates[j],distances[j],0])\n",
        "\n",
        "\n",
        "new = pd.DataFrame(reshaped_data,columns = ['Name','Catch_angle','Finish_angle','Length','Catch_slip','Finish_slip','Watts','Rating','Piece_length','Varsity?'])\n",
        "for name in new['Name']:\n",
        "  if name in varsityNames2017_2018:\n",
        "    new.loc[new['Name'] == name, 'Varsity?'] = 1\n",
        "\n",
        "\n",
        "table = pd.concat([table,new])\n",
        "print(table.shape)"
      ],
      "metadata": {
        "id": "QikkyQ2zhCbI",
        "colab": {
          "base_uri": "https://localhost:8080/"
        },
        "outputId": "412df6aa-f0ca-4ef4-a8b2-71f56bb959f1"
      },
      "execution_count": null,
      "outputs": [
        {
          "output_type": "stream",
          "name": "stdout",
          "text": [
            "(97, 10)\n"
          ]
        }
      ]
    },
    {
      "cell_type": "code",
      "source": [
        "# 2017-2018 session 3\n",
        "data = Telem2017_2018list[3]\n",
        "\n",
        "\n",
        "\n",
        "name_col = data.iloc[3:11,0]\n",
        "\n",
        "catch_col = data.iloc[3:11,1:5]\n",
        "finish_col = data.iloc[3:11,6:10]\n",
        "length_col = data.iloc[3:11,11:15]\n",
        "CatchS_col = data.iloc[3:11,16:20]\n",
        "FinishS_col = data.iloc[3:11,21:25]\n",
        "Watts_col = data.iloc[3:11,31:36]\n",
        "for i,name in enumerate(name_col):\n",
        "  reshaped_data.append([name,catch_col.iloc[i],finish_col.iloc[i],length_col.iloc[i],CatchS_col.iloc[i],FinishS_col.iloc[i],Watts_col.iloc[i],30,2500,0])\n",
        "new = pd.DataFrame(reshaped_data,columns = ['Name','Catch_angle','Finish_angle','Length','Catch_slip','Finish_slip','Watts','Rating','Piece_length','Varsity?'])\n",
        "\n",
        "\n",
        "for name in new['Name']:\n",
        "  if name in varsityNames2017_2018:\n",
        "    new.loc[new['Name'] == name, 'Varsity?'] = 1\n",
        "\n",
        "\n",
        "table = pd.concat([table,new])\n",
        "print(table.shape)"
      ],
      "metadata": {
        "colab": {
          "base_uri": "https://localhost:8080/"
        },
        "id": "Fw3adnKPhB8Y",
        "outputId": "464e0e1d-f60c-43dd-bfcc-89583343d718"
      },
      "execution_count": null,
      "outputs": [
        {
          "output_type": "stream",
          "name": "stdout",
          "text": [
            "(138, 10)\n"
          ]
        }
      ]
    },
    {
      "cell_type": "markdown",
      "source": [
        "Add data from 2018-2019"
      ],
      "metadata": {
        "id": "ceH4F6dbQSCs"
      }
    },
    {
      "cell_type": "code",
      "source": [
        "# for 2018-2019 session 1\n",
        "data = Telem2018_2019list[1]\n",
        "slice1 = slice(4,8)\n",
        "name_col = data.iloc[slice1,0]\n",
        "catch_col1 = data.iloc[slice1,2]\n",
        "finish_col1 = data.iloc[slice1,3]\n",
        "length_col1 = data.iloc[slice1,4]\n",
        "CatchS_cols1 = data.iloc[slice1,5]\n",
        "FinishS_cols1 = data.iloc[slice1,6]\n",
        "Watts_cols1 = data.iloc[slice1,8]\n",
        "print(name_col)\n",
        "slice2 = slice(11,15)\n",
        "name_col2 = data.iloc[slice2,0]\n",
        "catch_col2 = data.iloc[slice2,2]\n",
        "finish_col2 = data.iloc[slice2,3]\n",
        "length_col2 = data.iloc[slice2,4]\n",
        "CatchS_cols2 = data.iloc[slice2,5]\n",
        "FinishS_cols2 = data.iloc[slice2,6]\n",
        "Watts_cols2 = data.iloc[slice2,8]\n",
        "print(name_col2)\n",
        "reshaped_data = []\n",
        "for i,name in enumerate(name_col):\n",
        "  reshaped_data.append([name,catch_col1.iloc[i],finish_col1.iloc[i],length_col1.iloc[i],CatchS_cols1.iloc[i],FinishS_cols1.iloc[i],Watts_cols1.iloc[i],29,2000,0])\n",
        "for i,name in enumerate(name_col2):\n",
        "  reshaped_data.append([name,catch_col2.iloc[i],finish_col2.iloc[i],length_col2.iloc[i],CatchS_cols2.iloc[i],FinishS_cols2.iloc[i],Watts_cols2.iloc[i],29,2000,0])\n",
        "print(reshaped_data)\n",
        "new = pd.DataFrame(reshaped_data,columns = ['Name','Catch_angle','Finish_angle','Length','Catch_slip','Finish_slip','Watts','Rating','Piece_length','Varsity?'])\n",
        "for name in new['Name']:\n",
        "  if name in varsityNames2018_2019:\n",
        "    new.loc[new['Name'] == name, 'Varsity?'] = 1\n",
        "\n",
        "table = pd.concat([table,new])\n",
        "print(table.shape)"
      ],
      "metadata": {
        "colab": {
          "base_uri": "https://localhost:8080/"
        },
        "id": "wvz-tlyiQZak",
        "outputId": "d3058eaf-304a-4232-cfcb-a9b040231942"
      },
      "execution_count": null,
      "outputs": [
        {
          "output_type": "stream",
          "name": "stdout",
          "text": [
            "4    Dickinson\n",
            "5        Teece\n",
            "6        Breck\n",
            "7    Williams?\n",
            "Name: 2018-11-10 00:00:00, dtype: object\n",
            "11        Slear\n",
            "12        Hogan\n",
            "13    Kwitchoff\n",
            "14      Cabanas\n",
            "Name: 2018-11-10 00:00:00, dtype: object\n",
            "[['Dickinson', 64, 31, 94.4, 13, 9, 276, 29, 2000, 0], ['Teece', 59, 33, 91.9, 10, 15, 265, 29, 2000, 0], ['Breck', 59, 31, 89.9, 9, 14, 238, 29, 2000, 0], ['Williams?', 59, 30, 88.7, 11, 17, 244, 29, 2000, 0], ['Slear', 66, 32, 98, 18, 10, 252, 29, 2000, 0], ['Hogan', 63, 31, 93.5, 12, 15, 262, 29, 2000, 0], ['Kwitchoff', 61, 30, 90.1, 7, 12, 243, 29, 2000, 0], ['Cabanas', 63, 31, 94.4, 11, 13, 291, 29, 2000, 0]]\n",
            "(146, 10)\n"
          ]
        }
      ]
    },
    {
      "cell_type": "code",
      "source": [
        "# for 2018-2019 session 2\n",
        "\n",
        "\n",
        "sessionNumber = 2\n",
        "\n",
        "data = Telem2018_2019list[sessionNumber]\n",
        "reshaped_data =[]\n",
        "\n",
        "name_col = data.iloc[4:12,0]\n",
        "#print(name_col)\n",
        "catch_col = data.iloc[4:12,1:6]\n",
        "finish_col = data.iloc[4:12,7:12]\n",
        "length_col = data.iloc[4:12,13:18]\n",
        "CatchS_col = data.iloc[4:12,19:24]\n",
        "FinishS_col = data.iloc[4:12,25:30]\n",
        "Watts_col = data.iloc[4:12,37:42]\n",
        "\n",
        "name_col2 = data.iloc[15:23,0]\n",
        "catch_col2 = data.iloc[15:23,1:6]\n",
        "finish_col2 = data.iloc[15:23,7:12]\n",
        "length_col2 = data.iloc[15:23,13:18]\n",
        "CatchS_col2 = data.iloc[15:23,19:24]\n",
        "FinishS_col2 = data.iloc[15:23,25:30]\n",
        "Watts_col2 = data.iloc[15:23,37:42]\n",
        "\n",
        "distances = [1000,500,1000,500,1000]\n",
        "ratings = [30,34,32,36,32]\n",
        "\n",
        "for i,name in enumerate(name_col):\n",
        "  for j in range(5):\n",
        "    reshaped_data.append([name,catch_col.iloc[i,j],finish_col.iloc[i,j],length_col.iloc[i,j],CatchS_col.iloc[i,j],FinishS_col.iloc[i,j],Watts_col.iloc[i,j],ratings[j],distances[j],0])\n",
        "print(reshaped_data)\n",
        "new = pd.DataFrame(reshaped_data,columns = ['Name','Catch_angle','Finish_angle','Length','Catch_slip','Finish_slip','Watts','Rating','Piece_length','Varsity?'])\n",
        "for name in new['Name']:\n",
        "  if name in varsityNames2018_2019:\n",
        "    new.loc[new['Name'] == name, 'Varsity?'] = 1\n",
        "table = pd.concat([table,new])\n",
        "print(table.shape)\n"
      ],
      "metadata": {
        "colab": {
          "base_uri": "https://localhost:8080/"
        },
        "id": "JKW5PlYATiDn",
        "outputId": "7f2ee33c-d2c7-4796-9cef-5e6bfcae4d23"
      },
      "execution_count": null,
      "outputs": [
        {
          "output_type": "stream",
          "name": "stdout",
          "text": [
            "[['Dickinson', 61, 31, 92, 11, 10, 279, 30, 1000, 0], ['Dickinson', 60, 32, 92, 10, 9, 335, 34, 500, 0], ['Dickinson', 60, 31, 91, 12, 10, 289, 32, 1000, 0], ['Dickinson', 59, 31, 90, 11, 10, 312, 36, 500, 0], ['Dickinson', 59, 32, 91, 12, 11, 272, 32, 1000, 0], ['Teece', 59, 35, 94, 10, 15, 287, 30, 1000, 0], ['Teece', 56, 35, 91, 11, 15, 311, 34, 500, 0], ['Teece', 58, 35, 93, 11, 16, 289, 32, 1000, 0], ['Teece', 57, 34, 91, 10, 15, 324, 36, 500, 0], ['Teece', 58, 35, 93, 10, 16, 310, 32, 1000, 0], ['Breck', 59, 31, 90, 11, 11, 275, 30, 1000, 0], ['Breck', 57, 30, 87, 10, 11, 285, 34, 500, 0], ['Breck', 59, 31, 90, 11, 12, 267, 32, 1000, 0], ['Breck', 57, 30, 87, 10, 12, 284, 36, 500, 0], ['Breck', 58, 30, 88, 12, 13, 247, 32, 1000, 0], ['Thomas', 60, 33, 93, 8, 10, 332, 30, 1000, 0], ['Thomas', 58, 33, 91, 8, 10, 356, 34, 500, 0], ['Thomas', 58, 33, 91, 9, 11, 315, 32, 1000, 0], ['Thomas', 57, 32, 89, 8, 10, 352, 36, 500, 0], ['Thomas', 58, 33, 91, 10, 11, 311, 32, 1000, 0], ['Williams', 55, 30, 85, 12, 15, 261, 30, 1000, 0], ['Williams', 56, 31, 87, 12, 16, 299, 34, 500, 0], ['Williams', 56, 31, 87, 12, 16, 263, 32, 1000, 0], ['Williams', 55, 31, 86, 11, 18, 282, 36, 500, 0], ['Williams', 55, 30, 85, 12, 20, 253, 32, 1000, 0], ['Woll', 56, 30, 86, 7, 16, 264, 30, 1000, 0], ['Woll', 58, 31, 89, 7, 17, 297, 34, 500, 0], ['Woll', 57, 31, 88, 7, 17, 266, 32, 1000, 0], ['Woll', 58, 30, 88, 7, 17, 291, 36, 500, 0], ['Woll', 57, 31, 88, 7, 18, 248, 32, 1000, 0], ['Middleton', 59, 32, 91, 11, 9, 281, 30, 1000, 0], ['Middleton', 59, 32, 91, 10, 8, 341, 34, 500, 0], ['Middleton', 58, 31, 89, 11, 11, 271, 32, 1000, 0], ['Middleton', 58, 31, 89, 9, 10, 329, 36, 500, 0], ['Middleton', 58, 32, 90, 11, 13, 267, 32, 1000, 0], ['Long', 57, 33, 90, 10, 12, 275, 30, 1000, 0], ['Long', 56, 33, 89, 9, 12, 302, 34, 500, 0], ['Long', 56, 33, 89, 10, 12, 277, 32, 1000, 0], ['Long', 55, 32, 87, 8, 13, 288, 36, 500, 0], ['Long', 56, 33, 89, 9, 12, 275, 32, 1000, 0]]\n",
            "(186, 10)\n"
          ]
        }
      ]
    },
    {
      "cell_type": "code",
      "source": [
        "# for 2018-2019 session 3\n",
        "\n",
        "sessionNumber = 3\n",
        "\n",
        "data = Telem2018_2019list[sessionNumber]\n",
        "reshaped_data =[]\n",
        "name_col = data.iloc[1:9,0]\n",
        "catch_col = data.iloc[1:9,1:3]\n",
        "finish_col = data.iloc[1:9,4:6]\n",
        "length_col = data.iloc[1:9,7:9]\n",
        "CatchS_col = data.iloc[1:9,10:12]\n",
        "FinishS_col = data.iloc[1:9,13:15]\n",
        "Watts_col = data.iloc[1:9,19:21]\n",
        "\n",
        "name_col2 = data.iloc[12:20,0]\n",
        "catch_col2 = data.iloc[12:20,1:3]\n",
        "finish_col2 = data.iloc[12:20,4:6]\n",
        "length_col2 = data.iloc[12:20,7:9]\n",
        "CatchS_col2 = data.iloc[12:20,10:12]\n",
        "FinishS_col2 = data.iloc[12:20,13:15]\n",
        "Watts_col2 = data.iloc[12:20,19:21]\n",
        "distance =[300,500]\n",
        "for i,name in enumerate(name_col):\n",
        "  for j in range(2):\n",
        "    reshaped_data.append([name,catch_col.iloc[i,j],finish_col.iloc[i,j],length_col.iloc[i,j],CatchS_col.iloc[i,j],FinishS_col.iloc[i,j],Watts_col.iloc[i,j],32,distance[j],0])\n",
        "\n",
        "print(reshaped_data)\n",
        "new = pd.DataFrame(reshaped_data,columns = ['Name','Catch_angle','Finish_angle','Length','Catch_slip','Finish_slip','Watts','Rating','Piece_length','Varsity?'])\n",
        "for name in new['Name']:\n",
        "  if name in varsityNames2018_2019:\n",
        "    new.loc[new['Name'] == name, 'Varsity?'] = 1\n",
        "table = pd.concat([table,new])\n",
        "print(table.shape)"
      ],
      "metadata": {
        "colab": {
          "base_uri": "https://localhost:8080/"
        },
        "id": "HTb-wFDoFUnk",
        "outputId": "31a4ec6c-bfb9-46fc-a592-124103a10d97"
      },
      "execution_count": null,
      "outputs": [
        {
          "output_type": "stream",
          "name": "stdout",
          "text": [
            "[['Jonas', 64, 29, 93, 12, 8, 359, 32, 300, 0], ['Jonas', 63, 30, 93, 10, 10, 340, 32, 500, 0], ['Cabanas', 64, 34, 98, 14, 13, 379, 32, 300, 0], ['Cabanas', 63, 34, 97, 15, 15, 329, 32, 500, 0], ['Hogan', 64, 31, 95, 13, 14, 361, 32, 300, 0], ['Hogan', 62, 30, 93, 12, 15, 339, 32, 500, 0], ['Kwitchoff', 64, 30, 95, 12, 8, 348, 32, 300, 0], ['Kwitchoff', 63, 30, 94, 12, 9, 325, 32, 500, 0], ['Breck', 61, 28, 89, 4, 12, 323, 32, 300, 0], ['Breck', 61, 27, 88, 5, 13, 305, 32, 500, 0], ['Berg', 63, 31, 95, 11, 11, 387, 32, 300, 0], ['Berg', 62, 30, 93, 12, 12, 339, 32, 500, 0], ['Vecchione', 61, 32, 93, 11, 14, 307, 32, 300, 0], ['Vecchione', 61, 32, 93, 10, 13, 306, 32, 500, 0], ['Long', 61, 33, 94, 9, 10, 355, 32, 300, 0], ['Long', 61, 33, 94, 11, 11, 326, 32, 500, 0]]\n",
            "(202, 10)\n"
          ]
        }
      ]
    },
    {
      "cell_type": "code",
      "source": [
        "# for 2018-2019 session 4\n",
        "\n",
        "sessionNumber = 4\n",
        "\n",
        "data = Telem2018_2019list[sessionNumber]\n",
        "reshaped_data =[]\n",
        "name_col = data.iloc[1:9,0]\n",
        "catch_col = data.iloc[1:9,1:3]\n",
        "finish_col = data.iloc[1:9,4:6]\n",
        "length_col = data.iloc[1:9,7:9]\n",
        "CatchS_col = data.iloc[1:9,10:12]\n",
        "FinishS_col = data.iloc[1:9,13:15]\n",
        "Watts_col = data.iloc[1:9,19:21]\n",
        "\n",
        "name_col2 = data.iloc[13:21,0]\n",
        "catch_col2 = data.iloc[13:21,1:3]\n",
        "finish_col2 = data.iloc[13:21,4:6]\n",
        "length_col2 = data.iloc[13:21,7:9]\n",
        "CatchS_col2 = data.iloc[13:21,10:12]\n",
        "FinishS_col2 = data.iloc[13:21,13:15]\n",
        "Watts_col2 = data.iloc[13:21,19:21]\n",
        "distance =[1500,1000]\n",
        "\n",
        "for i,name in enumerate(name_col):\n",
        "  for j in range(2):\n",
        "    reshaped_data.append([name,catch_col.iloc[i,j],finish_col.iloc[i,j],length_col.iloc[i,j],CatchS_col.iloc[i,j],FinishS_col.iloc[i,j],Watts_col.iloc[i,j],32,distance[j],0])\n",
        "for i,name in enumerate(name_col2):\n",
        "  for j in range(2):\n",
        "    reshaped_data.append([name,catch_col2.iloc[i,j],finish_col2.iloc[i,j],length_col2.iloc[i,j],CatchS_col2.iloc[i,j],FinishS_col2.iloc[i,j],Watts_col2.iloc[i,j],32,distance[j],0])\n",
        "print(reshaped_data)\n",
        "new = pd.DataFrame(reshaped_data,columns = ['Name','Catch_angle','Finish_angle','Length','Catch_slip','Finish_slip','Watts','Rating','Piece_length','Varsity?'])\n",
        "for name in new['Name']:\n",
        "  if name in varsityNames2018_2019:\n",
        "    new.loc[new['Name'] == name, 'Varsity?'] = 1\n",
        "table = pd.concat([table,new])\n",
        "print(table.shape)"
      ],
      "metadata": {
        "colab": {
          "base_uri": "https://localhost:8080/"
        },
        "id": "PPLrSrXjHhL6",
        "outputId": "7fe4728f-d0f5-4847-81ba-d171e928aed6"
      },
      "execution_count": null,
      "outputs": [
        {
          "output_type": "stream",
          "name": "stdout",
          "text": [
            "[['Jonas', 59, 31, 90, 11, 10, 303, 32, 1500, 0], ['Jonas', 59, 31, 90, 10, 10, 311, 32, 1000, 0], ['Cabanas', 61, 36, 97, 16, 16, 292, 32, 1500, 0], ['Cabanas', 60, 36, 96, 15, 16, 303, 32, 1000, 0], ['Hogan', 57, 35, 92, 11, 16, 308, 32, 1500, 0], ['Hogan', 57, 34, 91, 11, 15, 343, 32, 1000, 0], ['Kwitchoff', 60, 32, 92, 12, 10, 283, 32, 1500, 0], ['Kwitchoff', 59, 31, 90, 12, 10, 286, 32, 1000, 0], ['Breck', 58, 30, 88, 7, 14, 270, 32, 1500, 0], ['Breck', 56, 29, 85, 7, 14, 269, 32, 1000, 0], ['Berg', 60, 31, 91, 14, 13, 270, 32, 1500, 0], ['Berg', nan, nan, nan, nan, nan, nan, 32, 1000, 0], ['Kernisan', nan, nan, nan, nan, nan, nan, 32, 1500, 0], ['Kernisan', 55, 29, 84, 5, 11, 311, 32, 1000, 0], ['Vecchione', 61, 30, 91, 10, 13, 278, 32, 1500, 0], ['Vecchione', 61, 29, 90, 9, 14, 266, 32, 1000, 0], ['Dickinson', 62, 29, 90, 13, 8, 286, 32, 1500, 0], ['Dickinson', 59, 29, 87, 11, 7, 325, 32, 1000, 0], ['Teece', 62, 35, 97, 11, 17, 297, 32, 1500, 0], ['Teece', 60, 34, 94, 11, 17, 301, 32, 1000, 0], ['Slear', 63, 32, 95, 12, 12, 280, 32, 1500, 0], ['Slear', 61, 30, 91, 12, 12, 282, 32, 1000, 0], ['Kernisan', 56, 30, 87, 5, 12, 301, 32, 1500, 0], ['Kernisan', 56, 32, 88, 8, 11, 306, 32, 1000, 0], ['Middleton', 60, 32, 93, 12, 11, 307, 32, 1500, 0], ['Middleton', 58, 33, 91, 10, 9, 343, 32, 1000, 0], ['Woll', 61, 32, 93, 12, 16, 279, 32, 1500, 0], ['Woll', 59, 32, 90, 10, 17, 282, 32, 1000, 0], ['Hess', 61, 33, 94, 9, 11, 318, 32, 1500, 0], ['Hess', 59, 32, 90, 9, 14, 287, 32, 1000, 0], ['Swanton', 57, 33, 90, 9, 10, 284, 32, 1500, 0], ['Swanton', 58, 34, 91, 11, 12, 329, 32, 1000, 0]]\n",
            "(234, 10)\n"
          ]
        }
      ]
    },
    {
      "cell_type": "code",
      "source": [
        "# for 2018-2019 session 5\n",
        "\n",
        "sessionNumber = 5\n",
        "\n",
        "data = Telem2018_2019list[sessionNumber]\n",
        "reshaped_data =[]\n",
        "\n",
        "\n",
        "\n",
        "name_col = data.iloc[1:9,0]\n",
        "catch_col = data.iloc[1:9,1:4]\n",
        "finish_col = data.iloc[1:9,5:8]\n",
        "length_col = data.iloc[1:9,9:12]\n",
        "CatchS_col = data.iloc[1:9,13:16]\n",
        "FinishS_col = data.iloc[1:9,17:20]\n",
        "Watts_col = data.iloc[1:9,25:28]\n",
        "\n",
        "\n",
        "name_col2 = data.iloc[13:21,0]\n",
        "catch_col2 = data.iloc[13:21,1:4]\n",
        "finish_col2 = data.iloc[13:21,5:8]\n",
        "length_col2 = data.iloc[13:21,9:12]\n",
        "CatchS_col2 = data.iloc[13:21,13:16]\n",
        "FinishS_col2 = data.iloc[13:21,17:20]\n",
        "Watts_col2 = data.iloc[13:21,25:28]\n",
        "distance =[2000,1500,2000]\n",
        "rates =[27,27,30]\n",
        "for i,name in enumerate(name_col):\n",
        "  for j in range(3):\n",
        "    reshaped_data.append([name,catch_col.iloc[i,j],finish_col.iloc[i,j],length_col.iloc[i,j],CatchS_col.iloc[i,j],FinishS_col.iloc[i,j],Watts_col.iloc[i,j],rates[j],distance[j],0])\n",
        "\n",
        "for i,name in enumerate(name_col2):\n",
        "  for j in range(3):\n",
        "    reshaped_data.append([name,catch_col2.iloc[i,j],finish_col2.iloc[i,j],length_col2.iloc[i,j],CatchS_col2.iloc[i,j],FinishS_col2.iloc[i,j],Watts_col2.iloc[i,j],rates[j],distance[j],0])\n",
        "print(reshaped_data)\n",
        "new = pd.DataFrame(reshaped_data,columns = ['Name','Catch_angle','Finish_angle','Length','Catch_slip','Finish_slip','Watts','Rating','Piece_length','Varsity?'])\n",
        "for name in new['Name']:\n",
        "  if name in varsityNames2018_2019:\n",
        "    new.loc[new['Name'] == name, 'Varsity?'] = 1\n",
        "table = pd.concat([table,new])\n",
        "print(table.shape)\n"
      ],
      "metadata": {
        "colab": {
          "base_uri": "https://localhost:8080/"
        },
        "id": "bL0iqHoDK4YV",
        "outputId": "6e7a5658-7e4c-4913-c99b-d021c693f31c"
      },
      "execution_count": null,
      "outputs": [
        {
          "output_type": "stream",
          "name": "stdout",
          "text": [
            "[['Vecchione', 58, 36, 94, 12, 14, 243, 27, 2000, 0], ['Vecchione', 57, 35, 93, 11, 12, 259, 27, 1500, 0], ['Vecchione', 57, 35, 92, 10, 12, 285, 30, 2000, 0], ['Long', 62, 34, 95, 13, 14, 269, 27, 2000, 0], ['Long', 61, 34, 94, 12, 13, 266, 27, 1500, 0], ['Long', 59, 33, 93, 12, 13, 286, 30, 2000, 0], ['Middleton', 61, 30, 91, 14, 12, 219, 27, 2000, 0], ['Middleton', 61, 31, 92, 14, 10, 254, 27, 1500, 0], ['Middleton', 60, 31, 91, 13, 9, 289, 30, 2000, 0], ['Woll', 63, 31, 94, 15, 16, 243, 27, 2000, 0], ['Woll', 63, 31, 94, 15, 15, 249, 27, 1500, 0], ['Woll', 63, 31, 94, 15, 16, 267, 30, 2000, 0], ['Moshirfar', 63, 32, 94, 13, 15, 265, 27, 2000, 0], ['Moshirfar', 63, 32, 95, 14, 16, 246, 27, 1500, 0], ['Moshirfar', 63, 31, 94, 12, 15, 272, 30, 2000, 0], ['Manning', 54, 36, 90, 12, 19, 249, 27, 2000, 0], ['Manning', 52, 36, 88, 12, 18, 254, 27, 1500, 0], ['Manning', 51, 36, 87, 12, 18, 272, 30, 2000, 0], ['DiMarino', 55, 34, 89, 13, 11, 239, 27, 2000, 0], ['DiMarino', 55, 33, 88, 14, 12, 223, 27, 1500, 0], ['DiMarino', 54, 33, 87, 13, 11, 258, 30, 2000, 0], ['Scheuritzel', 55, 29, 84, 14, 10, 239, 27, 2000, 0], ['Scheuritzel', 54, 29, 83, 14, 10, 226, 27, 1500, 0], ['Scheuritzel', 54, 28, 82, 14, 10, 241, 30, 2000, 0], ['Collins', 59, 36, 94, 14, 18, 256, 27, 2000, 0], ['Collins', 57, 36, 93, 14, 20, 234, 27, 1500, 0], ['Collins', 56, 34, 91, 14, 18, 248, 30, 2000, 0], ['Breck', 57, 31, 88, 14, 13, 250, 27, 2000, 0], ['Breck', 57, 31, 87, 14, 13, 243, 27, 1500, 0], ['Breck', 56, 30, 87, 12, 13, 269, 30, 2000, 0], ['Berg', 56, 36, 93, 14, 14, 258, 27, 2000, 0], ['Berg', 55, 36, 91, 16, 15, 215, 27, 1500, 0], ['Berg', 56, 35, 91, 16, 14, 263, 30, 2000, 0], ['Williams', 59, 31, 90, 13, 18, 234, 27, 2000, 0], ['Williams', 58, 30, 88, 13, 18, 235, 27, 1500, 0], ['Williams', 57, 31, 88, 13, 17, 258, 30, 2000, 0], ['Chao', 57, 26, 83, 9, 11, 231, 27, 2000, 0], ['Chao', 55, 26, 81, 7, 11, 232, 27, 1500, 0], ['Chao', 54, 25, 79, 7, 10, 251, 30, 2000, 0], ['Kernisan', 57, 29, 86, 7, 13, 253, 27, 2000, 0], ['Kernisan', 56, 29, 85, 7, 14, 240, 27, 1500, 0], ['Kernisan', 55, 28, 83, 7, 13, 260, 30, 2000, 0], ['Sun', 64, 26, 90, 9, 17, 215, 27, 2000, 0], ['Sun', 62, 26, 89, 9, 18, 205, 27, 1500, 0], ['Sun', 62, 26, 88, 11, 19, 218, 30, 2000, 0], ['Skow', 60, 33, 93, 16, 17, 230, 27, 2000, 0], ['Skow', 59, 33, 92, 16, 17, 224, 27, 1500, 0], ['Skow', 59, 32, 92, 16, 17, 243, 30, 2000, 0]]\n",
            "(282, 10)\n"
          ]
        }
      ]
    },
    {
      "cell_type": "code",
      "source": [
        "# for 2018-2019 session 6\n",
        "\n",
        "sessionNumber = 6\n",
        "\n",
        "data = Telem2018_2019list[sessionNumber]\n",
        "reshaped_data =[]\n",
        "\n",
        "name_col = data.iloc[1:9,0]\n",
        "catch_col = data.iloc[1:9,1:6]\n",
        "finish_col = data.iloc[1:9,7:12]\n",
        "length_col = data.iloc[1:9,13:18]\n",
        "CatchS_col = data.iloc[1:9,19:24]\n",
        "FinishS_col = data.iloc[1:9,25:30]\n",
        "Watts_col = data.iloc[1:9,37:42]\n",
        "\n",
        "name_col2 = data.iloc[13:21,0]\n",
        "catch_col2 = data.iloc[13:21,1:6]\n",
        "finish_col2 = data.iloc[13:21,7:12]\n",
        "length_col2 = data.iloc[13:21,13:18]\n",
        "CatchS_col2 = data.iloc[13:21,19:24]\n",
        "FinishS_col2 = data.iloc[13:21,25:30]\n",
        "Watts_col2 = data.iloc[13:21,37:42]\n",
        "distance =[1500,1500,1500,1000,1000]\n",
        "rates = [30,30,30,32,33]\n",
        "\n",
        "for i,name in enumerate(name_col):\n",
        "  for j in range(5):\n",
        "    reshaped_data.append([name,catch_col.iloc[i,j],finish_col.iloc[i,j],length_col.iloc[i,j],CatchS_col.iloc[i,j],FinishS_col.iloc[i,j],Watts_col.iloc[i,j],rates[j],distance[j],0])\n",
        "z = 0\n",
        "for i,name in enumerate(name_col2):\n",
        "  for j in range(5):\n",
        "    reshaped_data.append([name,catch_col2.iloc[i,j],finish_col2.iloc[i,j],length_col2.iloc[i,j],CatchS_col2.iloc[i,j],FinishS_col2.iloc[i,j],Watts_col2.iloc[i,j],rates[j],distance[j],0])\n",
        "\n",
        "new = pd.DataFrame(reshaped_data,columns = ['Name','Catch_angle','Finish_angle','Length','Catch_slip','Finish_slip','Watts','Rating','Piece_length','Varsity?'])\n",
        "for name in new['Name']:\n",
        "  if name in varsityNames2018_2019:\n",
        "    new.loc[new['Name'] == name, 'Varsity?'] = 1\n",
        "table = pd.concat([table,new])\n",
        "print(table.shape)"
      ],
      "metadata": {
        "colab": {
          "base_uri": "https://localhost:8080/"
        },
        "id": "iRZdj-FbQs4W",
        "outputId": "88997015-bd4a-4449-bd09-a1e0e48d9c02"
      },
      "execution_count": null,
      "outputs": [
        {
          "output_type": "stream",
          "name": "stdout",
          "text": [
            "(362, 10)\n"
          ]
        }
      ]
    },
    {
      "cell_type": "markdown",
      "source": [
        "Add the data from 2019-2020"
      ],
      "metadata": {
        "id": "4aAZgQN_PXkb"
      }
    },
    {
      "cell_type": "markdown",
      "source": [
        "Read out the data of 1 rower over 1 piece"
      ],
      "metadata": {
        "id": "jluZLe7q1zJg"
      }
    },
    {
      "cell_type": "code",
      "source": [
        "# for 2019-2020 session 1\n",
        "data = Telem2019_2020list[1]\n",
        "slice1 = slice(4,12)\n",
        "name_col = data.iloc[slice1,0]\n",
        "catch_col1 = data.iloc[slice1,2]\n",
        "finish_col1 = data.iloc[slice1,3]\n",
        "length_col1 = data.iloc[slice1,4]\n",
        "CatchS_cols1 = data.iloc[slice1,5]\n",
        "FinishS_cols1 = data.iloc[slice1,6]\n",
        "Watts_cols1 = data.iloc[slice1,8]\n",
        "\n",
        "slice2 = slice(14,22)\n",
        "name_col2 = data.iloc[slice2,0]\n",
        "catch_col2 = data.iloc[slice2,2]\n",
        "finish_col2 = data.iloc[slice2,3]\n",
        "length_col2 = data.iloc[slice2,4]\n",
        "CatchS_cols2 = data.iloc[slice2,5]\n",
        "FinishS_cols2 = data.iloc[slice2,6]\n",
        "Watts_cols2 = data.iloc[slice2,8]\n",
        "\n",
        "reshaped_data = []\n",
        "for i,name in enumerate(name_col):\n",
        "  reshaped_data.append([name,catch_col1.iloc[i],finish_col1.iloc[i],length_col1.iloc[i],CatchS_cols1.iloc[i],FinishS_cols1.iloc[i],Watts_cols1.iloc[i],22,2000,0])\n",
        "for i,name in enumerate(name_col2):\n",
        "  reshaped_data.append([name,catch_col2.iloc[i],finish_col2.iloc[i],length_col2.iloc[i],CatchS_cols2.iloc[i],FinishS_cols2.iloc[i],Watts_cols2.iloc[i],22,3500,0])\n",
        "print(reshaped_data)\n",
        "new = pd.DataFrame(reshaped_data,columns = ['Name','Catch_angle','Finish_angle','Length','Catch_slip','Finish_slip','Watts','Rating','Piece_length','Varsity?'])\n",
        "for name in new['Name']:\n",
        "  if name in varsityNames2019_2020:\n",
        "    new.loc[new['Name'] == name, 'Varsity?'] = 1\n",
        "table = pd.concat([table,new])\n",
        "print(table.shape)"
      ],
      "metadata": {
        "id": "fMlc2bYJ3dwJ",
        "colab": {
          "base_uri": "https://localhost:8080/"
        },
        "outputId": "2b250759-6b71-4fc6-e9d9-ee7d8f9c054e"
      },
      "execution_count": null,
      "outputs": [
        {
          "output_type": "stream",
          "name": "stdout",
          "text": [
            "[['Kwitchoff', 60, 30, 90, 9, 8, 232, 22, 2000, 0], ['Abraham', 59, 31, 90, 7, 7, 262, 22, 2000, 0], ['Collins', 57.5, 35.5, 93, 11, 16.5, 205, 22, 2000, 0], ['Frascella', 65, 29, 94, 9, 14, 212, 22, 2000, 0], ['Sun', 57, 32, 89, 10, 8, 231, 22, 2000, 0], ['Eilers', 57, 30, 87, 8, 6, 269, 22, 2000, 0], ['Wooldridge', 59, 32, 91, 9, 14, 208, 22, 2000, 0], ['Pompili', 60, 30, 90, 8, 10, 219, 22, 2000, 0], ['Kwitchoff', 58, 31, 89, 9, 7, 243, 22, 3500, 0], ['Abraham', 58, 31, 89, 7, 7, 254, 22, 3500, 0], ['Collins', 55, 33, 88, 10, 16, 197, 22, 3500, 0], ['Frascella', 63, 30, 93, 9, 13, 216, 22, 3500, 0], ['Sun', 57, 31, 88, 9, 6, 247, 22, 3500, 0], ['Eilers', 57, 31, 88, 8, 7, 267, 22, 3500, 0], ['Wooldridge', 59, 32, 91, 9, 14, 207, 22, 3500, 0], ['Pompili', 59, 30, 89, 8, 10, 222, 22, 3500, 0]]\n",
            "(378, 10)\n"
          ]
        }
      ]
    },
    {
      "cell_type": "code",
      "source": [
        "# for 2019-2020 session 2\n",
        "data = Telem2019_2020list[2]\n",
        "slice1 = slice(4,12)\n",
        "name_col = data.iloc[slice1,0]\n",
        "catch_col1 = data.iloc[slice1,2]\n",
        "finish_col1 = data.iloc[slice1,3]\n",
        "length_col1 = data.iloc[slice1,4]\n",
        "CatchS_cols1 = data.iloc[slice1,5]\n",
        "FinishS_cols1 = data.iloc[slice1,6]\n",
        "Watts_cols1 = data.iloc[slice1,8]\n",
        "\n",
        "slice2 = slice(14,22)\n",
        "name_col2 = data.iloc[slice2,0]\n",
        "catch_col2 = data.iloc[slice2,2]\n",
        "finish_col2 = data.iloc[slice2,3]\n",
        "length_col2 = data.iloc[slice2,4]\n",
        "CatchS_cols2 = data.iloc[slice2,5]\n",
        "FinishS_cols2 = data.iloc[slice2,6]\n",
        "Watts_cols2 = data.iloc[slice2,8]\n",
        "\n",
        "reshaped_data = []\n",
        "for i,name in enumerate(name_col):\n",
        "  reshaped_data.append([name,catch_col1.iloc[i],finish_col1.iloc[i],length_col1.iloc[i],CatchS_cols1.iloc[i],FinishS_cols1.iloc[i],Watts_cols1.iloc[i],22,2000,0])\n",
        "for i,name in enumerate(name_col2):\n",
        "  reshaped_data.append([name,catch_col2.iloc[i],finish_col2.iloc[i],length_col2.iloc[i],CatchS_cols2.iloc[i],FinishS_cols2.iloc[i],Watts_cols2.iloc[i],22,3500,0])\n",
        "\n",
        "new = pd.DataFrame(reshaped_data,columns = ['Name','Catch_angle','Finish_angle','Length','Catch_slip','Finish_slip','Watts','Rating','Piece_length','Varsity?'])\n",
        "for name in new['Name']:\n",
        "  if name in varsityNames2019_2020:\n",
        "    new.loc[new['Name'] == name, 'Varsity?'] = 1\n",
        "table = pd.concat([table,new])\n",
        "print(table.shape)"
      ],
      "metadata": {
        "colab": {
          "base_uri": "https://localhost:8080/"
        },
        "id": "KNTxSqW1j2Nv",
        "outputId": "e1655301-75df-4c7a-80ca-09eb49c41de6"
      },
      "execution_count": null,
      "outputs": [
        {
          "output_type": "stream",
          "name": "stdout",
          "text": [
            "(394, 10)\n"
          ]
        }
      ]
    },
    {
      "cell_type": "code",
      "source": [
        "\n",
        "\n",
        "#for2019-2020 session 3\n",
        "mapping1 = slice(4,12)\n",
        "data = Telem2019_2020list[3]\n",
        "name_col = data.iloc[mapping1,0]\n",
        "catch_cols = data.iloc[mapping1,3:5]\n",
        "finish_cols = data.iloc[mapping1,7:9]\n",
        "length_cols = data.iloc[mapping1,11:13]\n",
        "CatchS_cols = data.iloc[mapping1,15:17]\n",
        "FinishS_cols = data.iloc[mapping1,19:21]\n",
        "Watts_cols = data.iloc[mapping1,27:29]\n",
        "mapping2 = slice(17,26)\n",
        "name_col2 =(data.iloc[mapping2,0])\n",
        "catch_cols2 = data.iloc[mapping2,3:5]\n",
        "finish_cols2 = data.iloc[mapping2,7:9]\n",
        "length_cols2 = data.iloc[mapping2,11:13]\n",
        "CatchS_cols2 = data.iloc[mapping2,15:17]\n",
        "FinishS_cols2 = data.iloc[mapping2,19:21]\n",
        "Watts_cols2 = data.iloc[mapping2,27:29]\n",
        "mapping3 = slice(30,36)\n",
        "name_col3 =(data.iloc[mapping3,0])\n",
        "catch_cols3 = data.iloc[mapping3,3:5]\n",
        "finish_cols3 = data.iloc[mapping3,7:9]\n",
        "length_cols3 = data.iloc[mapping3,11:13]\n",
        "CatchS_cols3 = data.iloc[mapping3,15:17]\n",
        "FinishS_cols3 = data.iloc[mapping3,19:21]\n",
        "Watts_cols3 = data.iloc[mapping3,27:29]\n",
        "reshaped_data = []\n",
        "for i, name in enumerate(name_col):\n",
        "  for j in range(2):\n",
        "    reshaped_data.append([name,catch_cols.iloc[i,j],finish_cols.iloc[i,j],length_cols.iloc[i,j],CatchS_cols.iloc[i,j],FinishS_cols.iloc[i,j],Watts_cols.iloc[i,j],21,3500,0])\n",
        "\n",
        "\n",
        "\n",
        "for i, name in enumerate(name_col2):\n",
        "  for j in range(2):\n",
        "    reshaped_data.append([name,catch_cols2.iloc[i,j],finish_cols2.iloc[i,j],length_cols2.iloc[i,j],CatchS_cols2.iloc[i,j],FinishS_cols2.iloc[i,j],Watts_cols2.iloc[i,j],21,3500,0])\n",
        "\n",
        "\n",
        "for i, name in enumerate(name_col3):\n",
        "  for j in range(2):\n",
        "    reshaped_data.append([name,catch_cols3.iloc[i,j],finish_cols3.iloc[i,j],length_cols3.iloc[i,j],CatchS_cols3.iloc[i,j],FinishS_cols3.iloc[i,j],Watts_cols3.iloc[i,j],24,3500,0])\n",
        "\n",
        "\n",
        "new_data = pd.DataFrame(reshaped_data,columns = ['Name','Catch_angle','Finish_angle','Length','Catch_slip','Finish_slip','Watts','Rating','Piece_length','Varsity?'])\n",
        "\n",
        "\n",
        "\n",
        "\n",
        "for name in new['Name']:\n",
        "  if name in varsityNames2019_2020:\n",
        "    new.loc[new['Name'] == name, 'Varsity?'] = 1\n",
        "table = pd.concat([table,new_data])\n",
        "print(table.shape)"
      ],
      "metadata": {
        "colab": {
          "base_uri": "https://localhost:8080/"
        },
        "id": "S0OhLaq1VVXg",
        "outputId": "50802819-14a8-47a7-86a9-a31175a8f7d3"
      },
      "execution_count": null,
      "outputs": [
        {
          "output_type": "stream",
          "name": "stdout",
          "text": [
            "(440, 10)\n"
          ]
        }
      ]
    },
    {
      "cell_type": "code",
      "source": [
        "#for2019-2020 session 4\n",
        "sessionNumber = 4\n",
        "\n",
        "data = Telem2019_2020list[sessionNumber]\n",
        "reshaped_data =[]\n",
        "\n",
        "name_col = data.iloc[slice(4,16),0]\n",
        "#print(name_col)\n",
        "catch_col = data.iloc[4:16,2:5]\n",
        "finish_col = data.iloc[4:16,12:15]\n",
        "length_col = data.iloc[4:16,22:25]\n",
        "CatchS_col = data.iloc[4:16,32:35]\n",
        "FinishS_col = data.iloc[4:16,42:45]\n",
        "Watts_col = data.iloc[4:16,62:65]\n",
        "for i,name in enumerate(name_col):\n",
        "  for j in range(3):\n",
        "    reshaped_data.append([name,catch_col.iloc[i,j],finish_col.iloc[i,j],length_col.iloc[i,j],CatchS_col.iloc[i,j],FinishS_col.iloc[i,j],Watts_col.iloc[i,j],33,300,0])\n",
        "\n",
        "new = pd.DataFrame(reshaped_data,columns = ['Name','Catch_angle','Finish_angle','Length','Catch_slip','Finish_slip','Watts','Rating','Piece_length','Varsity?'])\n",
        "\n",
        "for name in new['Name']:\n",
        "  if name in varsityNames2019_2020:\n",
        "    new.loc[new['Name'] == name, 'Varsity?'] = 1\n",
        "\n",
        "table = pd.concat([table,new])\n",
        "print(table.shape)\n"
      ],
      "metadata": {
        "id": "fHU8c-FIQLlL",
        "colab": {
          "base_uri": "https://localhost:8080/"
        },
        "outputId": "580b0ef9-a00a-4047-d880-2b9b352a913f"
      },
      "execution_count": null,
      "outputs": [
        {
          "output_type": "stream",
          "name": "stdout",
          "text": [
            "(476, 10)\n"
          ]
        }
      ]
    },
    {
      "cell_type": "code",
      "source": [
        "#for2019-2020 session 5\n",
        "sessionNumber = 5\n",
        "\n",
        "\n",
        "data = Telem2019_2020list[sessionNumber]\n",
        "reshaped_data =[]\n",
        "\n",
        "name_col = data.iloc[slice(4,12),0]\n",
        "\n",
        "catch_col = data.iloc[4:12,2:5]\n",
        "finish_col = data.iloc[4:12,12:15]\n",
        "length_col = data.iloc[4:12,22:25]\n",
        "CatchS_col = data.iloc[4:12,32:35]\n",
        "FinishS_col = data.iloc[4:12,42:45]\n",
        "Watts_col = data.iloc[4:12,62:65]\n",
        "for i,name in enumerate(name_col):\n",
        "  for j in range(3):\n",
        "    reshaped_data.append([name,catch_col.iloc[i,j],finish_col.iloc[i,j],length_col.iloc[i,j],CatchS_col.iloc[i,j],FinishS_col.iloc[i,j],Watts_col.iloc[i,j],33,500,0])\n",
        "new_data = pd.DataFrame(reshaped_data,columns = ['Name','Catch_angle','Finish_angle','Length','Catch_slip','Finish_slip','Watts','Rating','Piece_length','Varsity?'])\n",
        "\n",
        "for name in new['Name']:\n",
        "  if name in varsityNames2019_2020:\n",
        "    new.loc[new['Name'] == name, 'Varsity?'] = 1\n",
        "table = pd.concat([table,new_data])\n",
        "print(table.shape)\n"
      ],
      "metadata": {
        "colab": {
          "base_uri": "https://localhost:8080/"
        },
        "id": "qoW7IkiFRxis",
        "outputId": "a0e770e0-cf8e-4341-a2bd-d04c541c09ac"
      },
      "execution_count": null,
      "outputs": [
        {
          "output_type": "stream",
          "name": "stdout",
          "text": [
            "(500, 10)\n"
          ]
        }
      ]
    },
    {
      "cell_type": "code",
      "source": [
        "print(pd.unique(table['Name']))\n",
        "\n"
      ],
      "metadata": {
        "colab": {
          "base_uri": "https://localhost:8080/"
        },
        "id": "PDln50WrwbY8",
        "outputId": "e25f5d6d-9c2b-4689-99e0-11f322b17142"
      },
      "execution_count": null,
      "outputs": [
        {
          "output_type": "stream",
          "name": "stdout",
          "text": [
            "['Long' 'Ogilby' 'Pristo' 'Valicenti' 'Lange' 'OAJ' 'Jonas' 'Watt'\n",
            " 'Ratliffe' 'Hess' 'Manning' 'Moshirfar' 'Teece' 'Shure' 'Hogan'\n",
            " 'Sincavage' 'Kwitchoff' 'Slear' 'Swanton' nan 'Carr' 'Cabanas'\n",
            " 'Arzt-Jones' 'Kernisan' 'Breckenridge' 'McDaniel' 'Holmes' 'Dickinson'\n",
            " 'Breck' 'Williams?' 'Thomas' 'Williams' 'Woll' 'Middleton' 'Berg'\n",
            " 'Vecchione' 'DiMarino' 'Scheuritzel' 'Collins' 'Chao' 'Sun' 'Skow' 'Mosh'\n",
            " 'Butler' 'Abraham' 'Frascella' 'Eilers' 'Wooldridge' 'Pompili' 'Olson'\n",
            " 'Skinner' 'Borsotti' 'High' 'Gaffney']\n"
          ]
        }
      ]
    },
    {
      "cell_type": "code",
      "source": [
        "#drop all non numbers and the names column\n",
        "\n",
        "table_clean = table.drop(columns = ['Name'])\n",
        "table_clean = table_clean.apply(pd.to_numeric, errors='coerce')\n",
        "table_clean = table_clean.dropna()\n",
        "table_clean.to_csv('Final_ECE477_data_table.csv')\n",
        "print(table_clean.shape)"
      ],
      "metadata": {
        "id": "wCh1U4wylavm",
        "colab": {
          "base_uri": "https://localhost:8080/"
        },
        "outputId": "83bce51a-c6ed-456b-a915-3f376569397f"
      },
      "execution_count": null,
      "outputs": [
        {
          "output_type": "stream",
          "name": "stdout",
          "text": [
            "(445, 9)\n"
          ]
        }
      ]
    },
    {
      "cell_type": "markdown",
      "source": [
        "Doing the ML part"
      ],
      "metadata": {
        "id": "phalGw0w0hyq"
      }
    },
    {
      "cell_type": "code",
      "source": [
        "#features\n",
        "X = table_clean.iloc[:,0:-1]\n",
        "X = np.array(X)\n",
        "#target\n",
        "y = table_clean.iloc[:,-1]\n",
        "y = np.array(y)\n",
        "\n",
        "X_train,X_val,y_train,y_val = train_test_split(X,y,test_size = 0.8, random_state=random_state)\n",
        "\n"
      ],
      "metadata": {
        "id": "Gp9CIYgF1-1z"
      },
      "execution_count": null,
      "outputs": []
    },
    {
      "cell_type": "code",
      "source": [
        "#MLP try\n",
        "\n",
        "clf =  MLPClassifier(random_state=random_state, max_iter=400).fit(X_train, y_train)\n",
        "\n",
        "clf.score(X_val,y_val)"
      ],
      "metadata": {
        "id": "1n3-TDvg7LA7",
        "colab": {
          "base_uri": "https://localhost:8080/"
        },
        "outputId": "52b04452-50f5-4437-9eaa-70c3a355eb9c"
      },
      "execution_count": null,
      "outputs": [
        {
          "output_type": "execute_result",
          "data": {
            "text/plain": [
              "0.7303370786516854"
            ]
          },
          "metadata": {},
          "execution_count": 22
        }
      ]
    },
    {
      "cell_type": "code",
      "source": [
        "for i in range(1,15):\n",
        "  forest_i = RandomForestClassifier(random_state=random_state, criterion='gini',max_depth=i).fit(X_train, y_train)\n",
        "  print(\"forest\",i,forest_i.score(X_val,y_val))\n",
        "\n",
        "\n",
        "\n",
        "forest = RandomForestClassifier(random_state=random_state, criterion='gini',max_depth=4).fit(X_train, y_train)\n",
        "forest.score(X_val,y_val)\n"
      ],
      "metadata": {
        "colab": {
          "base_uri": "https://localhost:8080/"
        },
        "id": "vkV9qeTLozks",
        "outputId": "42995da8-9d45-4b71-ad5e-d658301c3c5d"
      },
      "execution_count": null,
      "outputs": [
        {
          "output_type": "stream",
          "name": "stdout",
          "text": [
            "forest 1 0.7387640449438202\n",
            "forest 2 0.7443820224719101\n",
            "forest 3 0.7808988764044944\n",
            "forest 4 0.8202247191011236\n",
            "forest 5 0.7893258426966292\n",
            "forest 6 0.7837078651685393\n",
            "forest 7 0.8061797752808989\n",
            "forest 8 0.7865168539325843\n",
            "forest 9 0.7837078651685393\n",
            "forest 10 0.7780898876404494\n",
            "forest 11 0.7780898876404494\n",
            "forest 12 0.7780898876404494\n",
            "forest 13 0.7780898876404494\n",
            "forest 14 0.7780898876404494\n"
          ]
        },
        {
          "output_type": "execute_result",
          "data": {
            "text/plain": [
              "0.8202247191011236"
            ]
          },
          "metadata": {},
          "execution_count": 23
        }
      ]
    },
    {
      "cell_type": "code",
      "source": [
        "\n",
        "feature_names = ['Catch_angle', 'Finish_angle', 'Length', 'Catch_slip', 'Finish_slip', 'Watts', 'Rating', 'Piece_length']\n",
        "\n",
        "from sklearn.tree import plot_tree\n",
        "import matplotlib.pyplot as plt\n",
        "\n",
        "plt.figure(figsize=(20, 10))\n",
        "plot_tree(forest.estimators_[0], feature_names=list(feature_names), filled=True)\n",
        "plt.show()"
      ],
      "metadata": {
        "colab": {
          "base_uri": "https://localhost:8080/",
          "height": 807
        },
        "id": "f3zeqr2Po54J",
        "outputId": "e3e1f145-8505-4b7e-8de8-08961d5575ff"
      },
      "execution_count": null,
      "outputs": [
        {
          "output_type": "display_data",
          "data": {
            "text/plain": [
              "<Figure size 2000x1000 with 1 Axes>"
            ],
            "image/png": "[encoded data removed]"
          },
          "metadata": {}
        }
      ]
    },
    {
      "cell_type": "markdown",
      "source": [
        "MLP gives an accuracy of around 82.0%"
      ],
      "metadata": {
        "id": "bouBLiinDeQj"
      }
    }
  ]
}
